{
  "nbformat": 4,
  "nbformat_minor": 0,
  "metadata": {
    "colab": {
      "provenance": []
    },
    "kernelspec": {
      "display_name": "Python 3",
      "language": "python",
      "name": "python3"
    },
    "language_info": {
      "codemirror_mode": {
        "name": "ipython",
        "version": 3
      },
      "file_extension": ".py",
      "mimetype": "text/x-python",
      "name": "python",
      "nbconvert_exporter": "python",
      "pygments_lexer": "ipython3",
      "version": "3.8.3"
    },
    "gpuClass": "standard"
  },
  "cells": [
    {
      "cell_type": "markdown",
      "metadata": {
        "id": "sp7D0ktn5eiG"
      },
      "source": [
        "## Sentiment Anlysis of Tweets: Natural Language Processing with TensorFlow\n",
        "\n",
        "---\n",
        "\n",
        "Dataset: [Tweet sentiment Dataset](https://www.kaggle.com/datasets/saurabhshahane/twitter-sentiment-dataset)\n",
        "\n",
        "---"
      ]
    },
    {
      "cell_type": "markdown",
      "metadata": {
        "id": "cprXxkrMxIgT"
      },
      "source": [
        "## Setup and Imports\n",
        "\n",
        "1. Installing unidecode library\n",
        "2. Importing libraries"
      ]
    },
    {
      "cell_type": "code",
      "metadata": {
        "id": "5agZRy-45i0g",
        "colab": {
          "base_uri": "https://localhost:8080/"
        },
        "outputId": "5f65782d-b8ab-4449-9a76-b0d53433d198"
      },
      "source": [
        "!pip install unidecode"
      ],
      "execution_count": 1,
      "outputs": [
        {
          "output_type": "stream",
          "name": "stdout",
          "text": [
            "Looking in indexes: https://pypi.org/simple, https://us-python.pkg.dev/colab-wheels/public/simple/\n",
            "Collecting unidecode\n",
            "  Downloading Unidecode-1.3.6-py3-none-any.whl (235 kB)\n",
            "\u001b[2K     \u001b[90m━━━━━━━━━━━━━━━━━━━━━━━━━━━━━━━━━━━━━━━\u001b[0m \u001b[32m235.9/235.9 KB\u001b[0m \u001b[31m8.0 MB/s\u001b[0m eta \u001b[36m0:00:00\u001b[0m\n",
            "\u001b[?25hInstalling collected packages: unidecode\n",
            "Successfully installed unidecode-1.3.6\n"
          ]
        }
      ]
    },
    {
      "cell_type": "code",
      "source": [
        "%matplotlib inline\n",
        "\n",
        "import tensorflow as tf\n",
        "import numpy as np\n",
        "import matplotlib.pyplot as plt\n",
        "import pandas as pd\n",
        "import nltk\n",
        "import random\n",
        "import string\n",
        "from google.colab import drive\n",
        "drive.mount('/content/drive')\n",
        "\n",
        "from keras.preprocessing.text import Tokenizer\n",
        "from tensorflow.keras.preprocessing import sequence\n",
        "from keras.layers import Dense, Embedding, Bidirectional, LSTM\n",
        "from keras.losses import SparseCategoricalCrossentropy\n",
        "\n",
        "from nltk import word_tokenize\n",
        "from nltk.corpus import stopwords\n",
        "from nltk.stem import WordNetLemmatizer\n",
        "from nltk.tokenize import word_tokenize\n",
        "from unidecode import unidecode\n",
        "\n",
        "nltk.download('stopwords')\n",
        "nltk.download('punkt')\n",
        "nltk.download('wordnet')\n",
        "nltk.download('omw-1.4')"
      ],
      "metadata": {
        "colab": {
          "base_uri": "https://localhost:8080/"
        },
        "id": "ekzb74d1_Z-0",
        "outputId": "8913a6d3-1328-4287-f83e-60b4df628f4f"
      },
      "execution_count": 15,
      "outputs": [
        {
          "output_type": "stream",
          "name": "stdout",
          "text": [
            "Drive already mounted at /content/drive; to attempt to forcibly remount, call drive.mount(\"/content/drive\", force_remount=True).\n"
          ]
        },
        {
          "output_type": "stream",
          "name": "stderr",
          "text": [
            "[nltk_data] Downloading package stopwords to /root/nltk_data...\n",
            "[nltk_data]   Package stopwords is already up-to-date!\n",
            "[nltk_data] Downloading package punkt to /root/nltk_data...\n",
            "[nltk_data]   Package punkt is already up-to-date!\n",
            "[nltk_data] Downloading package wordnet to /root/nltk_data...\n",
            "[nltk_data]   Package wordnet is already up-to-date!\n",
            "[nltk_data] Downloading package omw-1.4 to /root/nltk_data...\n",
            "[nltk_data]   Package omw-1.4 is already up-to-date!\n"
          ]
        },
        {
          "output_type": "execute_result",
          "data": {
            "text/plain": [
              "True"
            ]
          },
          "metadata": {},
          "execution_count": 15
        }
      ]
    },
    {
      "cell_type": "markdown",
      "metadata": {
        "id": "7JsBpezExIga"
      },
      "source": [
        "## Loading Data\n",
        "\n",
        "1. Importing the Tweet Emotion dataset from https://www.kaggle.com/datasets/saurabhshahane/twitter-sentiment-dataset\n",
        "2. Dropping nulls\n",
        "3. Creating train, validation and test sets(60/20/20)"
      ]
    },
    {
      "cell_type": "code",
      "metadata": {
        "id": "0YHOvjAu5eiL"
      },
      "source": [
        "dataset = pd.read_csv(\"drive/MyDrive/Dataset/Twitter_Data.csv\")\n",
        "dataset = dataset.dropna()"
      ],
      "execution_count": 3,
      "outputs": []
    },
    {
      "cell_type": "code",
      "metadata": {
        "id": "2s0h541FxIgc"
      },
      "source": [
        "train, validate, test = np.split(dataset.sample(frac=1, random_state=42), [int(.6*len(dataset)), int(.8*len(dataset))])"
      ],
      "execution_count": 4,
      "outputs": []
    },
    {
      "cell_type": "code",
      "metadata": {
        "id": "z7eCnxU25eiN"
      },
      "source": [
        "x_train = train['clean_text'].str.replace('[^a-zA-Z]', ' ', regex=True).str.lower()\n",
        "y_train = train['category'].astype(int)\n",
        "x_val = validate['clean_text'].str.replace('[^a-zA-Z]', ' ', regex=True).str.lower()\n",
        "y_val = validate['category'].astype(int)\n",
        "x_test = test['clean_text'].str.replace('[^a-zA-Z]', ' ', regex=True).str.lower()\n",
        "y_test = test['category'].astype(int)"
      ],
      "execution_count": 5,
      "outputs": []
    },
    {
      "cell_type": "markdown",
      "metadata": {
        "id": "gcAflLv6xIgp"
      },
      "source": [
        "## Cleaning, Lemmatizing and Tokenizing the tweets\n",
        "\n",
        "1. Removing stop words\n",
        "2. Lemmatizing the tweets\n",
        "3. Tokenizing the tweets"
      ]
    },
    {
      "cell_type": "code",
      "metadata": {
        "id": "qfX5-ResxIgq",
        "colab": {
          "base_uri": "https://localhost:8080/",
          "height": 35
        },
        "outputId": "cb135bd0-0bda-4b13-983a-99651896df52"
      },
      "source": [
        "lemmatizer = WordNetLemmatizer()\n",
        "\n",
        "#removing english stopwords, lemmatizing words\n",
        "def lemmitize(article):\n",
        "  stopset = stopwords.words('english') + list(string.punctuation)\n",
        "  article = \" \".join([i for i in word_tokenize(article) if i not in stopset])\n",
        "  article = unidecode(article)\n",
        "  words = word_tokenize(article)\n",
        "  s = []\n",
        "  for word in words:\n",
        "      s.append(lemmatizer.lemmatize(word))\n",
        "  article = \" \".join(s)\n",
        "  return article\n",
        "  \n",
        "lemmitize(\"Sample of non ASCII: Ceñía. How to remove stopwords and punctuations feet?\")"
      ],
      "execution_count": 6,
      "outputs": [
        {
          "output_type": "execute_result",
          "data": {
            "text/plain": [
              "'Sample non ASCII Cenia How remove stopwords punctuation foot'"
            ],
            "application/vnd.google.colaboratory.intrinsic+json": {
              "type": "string"
            }
          },
          "metadata": {},
          "execution_count": 6
        }
      ]
    },
    {
      "cell_type": "code",
      "metadata": {
        "id": "cckUvwBo5eif"
      },
      "source": [
        "x_train = x_train.apply(lemmitize)\n",
        "x_val = x_val.apply(lemmitize)\n",
        "x_test = x_test.apply(lemmitize)"
      ],
      "execution_count": 7,
      "outputs": []
    },
    {
      "cell_type": "code",
      "source": [
        "x_train = np.array(x_train)\n",
        "x_val = np.array(x_val)\n",
        "x_test = np.array(x_test)"
      ],
      "metadata": {
        "id": "ZUojNEBupCC-"
      },
      "execution_count": 8,
      "outputs": []
    },
    {
      "cell_type": "code",
      "source": [
        "#creating tokenizer\n",
        "tokenizer = Tokenizer (num_words=None, filters='!\"#$%&()*+,-./:;<=>?@[\\\\]^_`{|}~\\t\\n', lower=True, split=' ', char_level=False, oov_token='<UNK>', document_count=0)"
      ],
      "metadata": {
        "id": "g4f_1C0dnYFL"
      },
      "execution_count": 9,
      "outputs": []
    },
    {
      "cell_type": "code",
      "source": [
        "#Tokenizing the tweets\n",
        "tokenizer.fit_on_texts(x_train)\n",
        "x_train_token=tokenizer.texts_to_sequences(x_train)\n",
        "\n",
        "vocab_size = len(tokenizer.word_index)+1\n",
        "\n",
        "x_val_token=tokenizer.texts_to_sequences(x_val)\n",
        "x_test_token=tokenizer.texts_to_sequences(x_test)"
      ],
      "metadata": {
        "id": "nlMRTjW4nYII"
      },
      "execution_count": 10,
      "outputs": []
    },
    {
      "cell_type": "markdown",
      "metadata": {
        "id": "i3Bqm7b2xIgu"
      },
      "source": [
        "## Padding and Truncating Sequences\n",
        "\n",
        "1. Checking length of the tweets\n",
        "2. Creating padded sequences"
      ]
    },
    {
      "cell_type": "code",
      "source": [
        "lengths = [len(t.split(' ')) for t in x_train]\n",
        "plt.hist(lengths, bins = len(set(lengths)))\n",
        "plt.show(), max(lengths)"
      ],
      "metadata": {
        "colab": {
          "base_uri": "https://localhost:8080/",
          "height": 282
        },
        "id": "IWl5JTivp07t",
        "outputId": "ec45586e-8e8a-4fbe-c985-a54ed51078f1"
      },
      "execution_count": 11,
      "outputs": [
        {
          "output_type": "display_data",
          "data": {
            "text/plain": [
              "<Figure size 432x288 with 1 Axes>"
            ],
            "image/png": "[encoded data removed]"
          },
          "metadata": {
            "needs_background": "light"
          }
        },
        {
          "output_type": "execute_result",
          "data": {
            "text/plain": [
              "(None, 43)"
            ]
          },
          "metadata": {},
          "execution_count": 11
        }
      ]
    },
    {
      "cell_type": "code",
      "metadata": {
        "id": "mLvf_WFZxIgu",
        "colab": {
          "base_uri": "https://localhost:8080/"
        },
        "outputId": "e2d80e00-730b-4335-9629-5e13dfc4e380"
      },
      "source": [
        "maxlen = 45\n",
        "\n",
        "x_train = sequence.pad_sequences(x_train_token, maxlen=maxlen, truncating='post', padding='post')\n",
        "x_val = sequence.pad_sequences(x_val_token, maxlen=maxlen, truncating='post', padding='post')\n",
        "x_test = sequence.pad_sequences(x_test_token, maxlen=maxlen, truncating='post', padding='post')\n",
        "\n",
        "print('x_train shape:', np.array(x_train).shape)\n",
        "print('x_val shape:', np.array(x_val).shape)\n",
        "print('x_test shape:', np.array(x_test).shape)"
      ],
      "execution_count": 16,
      "outputs": [
        {
          "output_type": "stream",
          "name": "stdout",
          "text": [
            "x_train shape: (97781, 45)\n",
            "x_val shape: (32594, 45)\n",
            "x_test shape: (32594, 45)\n"
          ]
        }
      ]
    },
    {
      "cell_type": "markdown",
      "metadata": {
        "id": "BURhOX_KxIg8"
      },
      "source": [
        "## Task 6: Preparing the Labels\n",
        "\n",
        "1. Creating classes to index and index to classes dictionaries\n",
        "2. Converting text labels to numeric labels"
      ]
    },
    {
      "cell_type": "code",
      "source": [
        "#checking labels distribution\n",
        "plt.hist(dataset['category'], label=set(dataset['category']))\n",
        "plt.xticks(list(set(dataset['category'])))\n",
        "plt.show()"
      ],
      "metadata": {
        "id": "fhagYsPOYwK8"
      },
      "execution_count": null,
      "outputs": []
    },
    {
      "cell_type": "code",
      "metadata": {
        "id": "SufT2bpD5ejE",
        "colab": {
          "base_uri": "https://localhost:8080/"
        },
        "outputId": "740936b9-f9e2-4397-9149-e86763bd21ea"
      },
      "source": [
        "y_train = np.array(y_train)\n",
        "y_val = np.array(y_val)\n",
        "y_test = np.array(y_test)\n",
        "print('y_train shape:', y_train.shape)\n",
        "print('y_val shape:', y_val.shape)\n",
        "print('y_test shape:', y_test.shape)"
      ],
      "execution_count": 17,
      "outputs": [
        {
          "output_type": "stream",
          "name": "stdout",
          "text": [
            "y_train shape: (97781,)\n",
            "y_val shape: (32594,)\n",
            "y_test shape: (32594,)\n"
          ]
        }
      ]
    },
    {
      "cell_type": "code",
      "source": [
        "# #changing labels to categorical\n",
        "# import keras\n",
        "# y_train_l = keras.utils.to_categorical(y_train, 3)\n",
        "# y_val_l = keras.utils.to_categorical(y_val, 3)\n",
        "# y_test_l = keras.utils.to_categorical(y_test, 3)"
      ],
      "metadata": {
        "id": "1ZN5oTgS6TTr"
      },
      "execution_count": 18,
      "outputs": []
    },
    {
      "cell_type": "code",
      "metadata": {
        "id": "rpwzL88I7YSm"
      },
      "source": [
        "#when you have non numeric labels\n",
        "class_to_index = dict((c,i) for i,c in enumerate(set(y_train)))\n",
        "index_to_class = dict((i,c) for c,i in class_to_index.items())\n",
        "names_to_ids = lambda labels: np.array([class_to_index.get(x) for x in labels])\n",
        "y_train_l = names_to_ids(y_train)\n",
        "y_val_l = names_to_ids(y_val)\n",
        "y_test_l = names_to_ids(y_test)"
      ],
      "execution_count": 19,
      "outputs": []
    },
    {
      "cell_type": "markdown",
      "metadata": {
        "id": "c-v0Mnh8xIhP"
      },
      "source": [
        "## Creating & Compiling the Model\n",
        "\n",
        "1. Creating the model\n",
        "2. Compiling the model"
      ]
    },
    {
      "cell_type": "code",
      "metadata": {
        "id": "OpewXxPQ5eji"
      },
      "source": [
        "model = tf.keras.models.Sequential(layers=[\n",
        "    Embedding(vocab_size, 16 , input_length=maxlen),\n",
        "    Bidirectional(LSTM(20, return_sequences=True)),\n",
        "    Bidirectional(LSTM(20)),\n",
        "    Dense(3, activation='softmax')\n",
        "\n",
        "])\n",
        "\n",
        "model.compile(loss='sparse_categorical_crossentropy',\n",
        "                optimizer='adam', \n",
        "                metrics=['accuracy'])"
      ],
      "execution_count": 20,
      "outputs": []
    },
    {
      "cell_type": "code",
      "source": [
        "model.summary()"
      ],
      "metadata": {
        "colab": {
          "base_uri": "https://localhost:8080/"
        },
        "id": "DEbynUM8zZqM",
        "outputId": "52ed0ea1-b888-49c9-985c-cf7f16065d14"
      },
      "execution_count": 21,
      "outputs": [
        {
          "output_type": "stream",
          "name": "stdout",
          "text": [
            "Model: \"sequential\"\n",
            "_________________________________________________________________\n",
            " Layer (type)                Output Shape              Param #   \n",
            "=================================================================\n",
            " embedding (Embedding)       (None, 45, 16)            1111072   \n",
            "                                                                 \n",
            " bidirectional (Bidirectiona  (None, 45, 40)           5920      \n",
            " l)                                                              \n",
            "                                                                 \n",
            " bidirectional_1 (Bidirectio  (None, 40)               9760      \n",
            " nal)                                                            \n",
            "                                                                 \n",
            " dense (Dense)               (None, 3)                 123       \n",
            "                                                                 \n",
            "=================================================================\n",
            "Total params: 1,126,875\n",
            "Trainable params: 1,126,875\n",
            "Non-trainable params: 0\n",
            "_________________________________________________________________\n"
          ]
        }
      ]
    },
    {
      "cell_type": "markdown",
      "metadata": {
        "id": "1HST_CHjxIhR"
      },
      "source": [
        "## Training the Model\n",
        "\n",
        "1. Preparing a validation set\n",
        "2. Training the model"
      ]
    },
    {
      "cell_type": "code",
      "metadata": {
        "id": "Ff7F3hCK5ejm",
        "colab": {
          "base_uri": "https://localhost:8080/"
        },
        "outputId": "2b4cbb0a-0b6d-4d2f-8b7d-52ed91302ce8"
      },
      "source": [
        "h = model.fit(x_train, y_train_l, validation_data = (x_val, y_val_l), epochs = 20, callbacks= tf.keras.callbacks.EarlyStopping(monitor='val_accuracy', patience=3))"
      ],
      "execution_count": 22,
      "outputs": [
        {
          "output_type": "stream",
          "name": "stdout",
          "text": [
            "Epoch 1/20\n",
            "3056/3056 [==============================] - 254s 80ms/step - loss: 0.4662 - accuracy: 0.8269 - val_loss: 0.3418 - val_accuracy: 0.8932\n",
            "Epoch 2/20\n",
            "3056/3056 [==============================] - 247s 81ms/step - loss: 0.2695 - accuracy: 0.9150 - val_loss: 0.3142 - val_accuracy: 0.9020\n",
            "Epoch 3/20\n",
            "3056/3056 [==============================] - 253s 83ms/step - loss: 0.2114 - accuracy: 0.9345 - val_loss: 0.3452 - val_accuracy: 0.8940\n",
            "Epoch 4/20\n",
            "3056/3056 [==============================] - 255s 84ms/step - loss: 0.1649 - accuracy: 0.9497 - val_loss: 0.3760 - val_accuracy: 0.8870\n",
            "Epoch 5/20\n",
            "3056/3056 [==============================] - 253s 83ms/step - loss: 0.1282 - accuracy: 0.9599 - val_loss: 0.4650 - val_accuracy: 0.8675\n"
          ]
        }
      ]
    },
    {
      "cell_type": "markdown",
      "metadata": {
        "id": "EdsJyMTLxIhX"
      },
      "source": [
        "## Evaluating the Model\n",
        "\n",
        "1. Visualizing training history\n",
        "2. Evaluating trained model on test set\n",
        "3. Plotting confusion matrix for test set"
      ]
    },
    {
      "cell_type": "code",
      "source": [
        "def show_history(h):\n",
        "    epochs_trained = len(h.history['loss'])\n",
        "    plt.figure(figsize=(16, 6))\n",
        "\n",
        "    plt.subplot(1, 2, 1)\n",
        "    plt.plot(range(0, epochs_trained), h.history.get('accuracy'), label='Training')\n",
        "    plt.plot(range(0, epochs_trained), h.history.get('val_accuracy'), label='Validation')\n",
        "    plt.ylim([0., 1.])\n",
        "    plt.xlabel('Epochs')\n",
        "    plt.ylabel('Accuracy')\n",
        "    plt.legend()\n",
        "\n",
        "    plt.subplot(1, 2, 2)\n",
        "    plt.plot(range(0, epochs_trained), h.history.get('loss'), label='Training')\n",
        "    plt.plot(range(0, epochs_trained), h.history.get('val_loss'), label='Validation')\n",
        "    plt.xlabel('Epochs')\n",
        "    plt.ylabel('Loss')\n",
        "    plt.legend()\n",
        "    plt.show()\n"
      ],
      "metadata": {
        "id": "QQVKFHNBG6Sb"
      },
      "execution_count": 37,
      "outputs": []
    },
    {
      "cell_type": "code",
      "metadata": {
        "id": "ENCfvXeLxIhX",
        "colab": {
          "base_uri": "https://localhost:8080/",
          "height": 392
        },
        "outputId": "5c238fea-da2f-4d63-9a6c-49d18a7cf085"
      },
      "source": [
        "show_history(h)"
      ],
      "execution_count": 38,
      "outputs": [
        {
          "output_type": "display_data",
          "data": {
            "text/plain": [
              "<Figure size 1152x432 with 2 Axes>"
            ],
            "image/png": "[encoded data removed]"
          },
          "metadata": {
            "needs_background": "light"
          }
        }
      ]
    },
    {
      "cell_type": "code",
      "metadata": {
        "id": "kWuzoz8uxIha",
        "colab": {
          "base_uri": "https://localhost:8080/"
        },
        "outputId": "1a6db685-0d7a-4d25-e9b5-fa66f7e314f2"
      },
      "source": [
        "model.evaluate(x_test, y_test_l)"
      ],
      "execution_count": 39,
      "outputs": [
        {
          "output_type": "stream",
          "name": "stdout",
          "text": [
            "1019/1019 [==============================] - 15s 15ms/step - loss: 0.4632 - accuracy: 0.8689\n"
          ]
        },
        {
          "output_type": "execute_result",
          "data": {
            "text/plain": [
              "[0.4632229804992676, 0.8689022660255432]"
            ]
          },
          "metadata": {},
          "execution_count": 39
        }
      ]
    },
    {
      "cell_type": "code",
      "metadata": {
        "id": "rh638vHG5ej6",
        "colab": {
          "base_uri": "https://localhost:8080/"
        },
        "outputId": "97c3433e-736f-4503-fc46-50064bb31326"
      },
      "source": [
        "#checking random prediction\n",
        "idx= random.randint(0, len(x_test)-1)\n",
        "\n",
        "print('Test tweet: ', x_test[idx])\n",
        "print('Actual label: ', y_test[idx])\n",
        "\n",
        "pred = model.predict(np.expand_dims(x_test[idx], axis=0))[0]\n",
        "pred_label = index_to_class[np.argmax(pred).astype('int')]\n",
        "\n",
        "print('Predicted label: ', pred_label)"
      ],
      "execution_count": 40,
      "outputs": [
        {
          "output_type": "stream",
          "name": "stdout",
          "text": [
            "Test tweet:  [    9    19    11   242   312  4471  2622   312 22585  2622 10126  1160\n",
            "     0     0     0     0     0     0     0     0     0     0     0     0\n",
            "     0     0     0     0     0     0     0     0     0     0     0     0\n",
            "     0     0     0     0     0     0     0     0     0]\n",
            "Actual label:  0\n",
            "1/1 [==============================] - 2s 2s/step\n",
            "Predicted label:  0\n"
          ]
        }
      ]
    },
    {
      "cell_type": "code",
      "metadata": {
        "id": "hHl5SVCFxIhh",
        "colab": {
          "base_uri": "https://localhost:8080/"
        },
        "outputId": "c6cc6789-85ef-453b-eb0c-0a412c554f5b"
      },
      "source": [
        "y_pred = model.predict(x_test)\n",
        "classes_y =np.argmax(y_pred,axis=1)"
      ],
      "execution_count": 41,
      "outputs": [
        {
          "output_type": "stream",
          "name": "stdout",
          "text": [
            "1019/1019 [==============================] - 18s 18ms/step\n"
          ]
        }
      ]
    },
    {
      "cell_type": "code",
      "metadata": {
        "id": "NC8YQ0OexIhj",
        "colab": {
          "base_uri": "https://localhost:8080/",
          "height": 283
        },
        "outputId": "964b81ac-e263-4b98-b208-08e1e2e9699d"
      },
      "source": [
        "# plot confusion_matrix\n",
        "from sklearn.metrics import confusion_matrix, ConfusionMatrixDisplay\n",
        "\n",
        "cm = confusion_matrix(y_test, y_test, normalize='true')\n",
        "disp = ConfusionMatrixDisplay(cm, display_labels= list(set(y_test_l)))\n",
        "disp.plot()\n",
        "plt.show()"
      ],
      "execution_count": 42,
      "outputs": [
        {
          "output_type": "display_data",
          "data": {
            "text/plain": [
              "<Figure size 432x288 with 2 Axes>"
            ],
            "image/png": "[encoded data removed]"
          },
          "metadata": {
            "needs_background": "light"
          }
        }
      ]
    },
    {
      "cell_type": "code",
      "source": [],
      "metadata": {
        "id": "uq1kag1pHY3U"
      },
      "execution_count": null,
      "outputs": []
    }
  ]
}