{
  "nbformat": 4,
  "nbformat_minor": 0,
  "metadata": {
    "colab": {
      "provenance": []
    },
    "kernelspec": {
      "display_name": "Python 3",
      "language": "python",
      "name": "python3"
    },
    "language_info": {
      "codemirror_mode": {
        "name": "ipython",
        "version": 3
      },
      "file_extension": ".py",
      "mimetype": "text/x-python",
      "name": "python",
      "nbconvert_exporter": "python",
      "pygments_lexer": "ipython3",
      "version": "3.8.3"
    },
    "gpuClass": "standard"
  },
  "cells": [
    {
      "cell_type": "markdown",
      "metadata": {
        "id": "sp7D0ktn5eiG"
      },
      "source": [
        "## Sentiment Anlysis of Tweets: Natural Language Processing with TensorFlow\n",
        "\n",
        "---\n",
        "\n",
        "Dataset: [Tweet sentiment Dataset](https://www.kaggle.com/datasets/saurabhshahane/twitter-sentiment-dataset)\n",
        "\n",
        "---"
      ]
    },
    {
      "cell_type": "code",
      "metadata": {
        "id": "5agZRy-45i0g",
        "colab": {
          "base_uri": "https://localhost:8080/"
        },
        "outputId": "dc113cc1-6cfa-4364-b027-42825ed89733"
      },
      "source": [
        "!pip install unidecode"
      ],
      "execution_count": 1,
      "outputs": [
        {
          "output_type": "stream",
          "name": "stdout",
          "text": [
            "Looking in indexes: https://pypi.org/simple, https://us-python.pkg.dev/colab-wheels/public/simple/\n",
            "Requirement already satisfied: unidecode in /usr/local/lib/python3.8/dist-packages (1.3.6)\n"
          ]
        }
      ]
    },
    {
      "cell_type": "code",
      "source": [
        "%matplotlib inline\n",
        "\n",
        "import tensorflow as tf\n",
        "import numpy as np\n",
        "import matplotlib.pyplot as plt\n",
        "import pandas as pd\n",
        "import nltk\n",
        "import random\n",
        "import string\n",
        "from keras.preprocessing.text import Tokenizer\n",
        "from tensorflow.keras.preprocessing import sequence\n",
        "from keras.layers import Dense, Embedding, Bidirectional, LSTM\n",
        "from keras.losses import SparseCategoricalCrossentropy\n",
        "from sklearn.metrics import confusion_matrix, ConfusionMatrixDisplay\n",
        "from nltk import word_tokenize\n",
        "from nltk.corpus import stopwords\n",
        "from nltk.stem import WordNetLemmatizer\n",
        "from nltk.tokenize import word_tokenize\n",
        "from unidecode import unidecode\n",
        "from google.colab import drive\n",
        "drive.mount('/content/drive')\n",
        "\n",
        "nltk.download('stopwords')\n",
        "nltk.download('punkt')\n",
        "nltk.download('wordnet')\n",
        "nltk.download('omw-1.4')"
      ],
      "metadata": {
        "colab": {
          "base_uri": "https://localhost:8080/"
        },
        "id": "ekzb74d1_Z-0",
        "outputId": "ef417976-d3fa-4997-9673-f9b874766bb9"
      },
      "execution_count": 2,
      "outputs": [
        {
          "output_type": "stream",
          "name": "stdout",
          "text": [
            "Drive already mounted at /content/drive; to attempt to forcibly remount, call drive.mount(\"/content/drive\", force_remount=True).\n"
          ]
        },
        {
          "output_type": "stream",
          "name": "stderr",
          "text": [
            "[nltk_data] Downloading package stopwords to /root/nltk_data...\n",
            "[nltk_data]   Package stopwords is already up-to-date!\n",
            "[nltk_data] Downloading package punkt to /root/nltk_data...\n",
            "[nltk_data]   Package punkt is already up-to-date!\n",
            "[nltk_data] Downloading package wordnet to /root/nltk_data...\n",
            "[nltk_data]   Package wordnet is already up-to-date!\n",
            "[nltk_data] Downloading package omw-1.4 to /root/nltk_data...\n",
            "[nltk_data]   Package omw-1.4 is already up-to-date!\n"
          ]
        },
        {
          "output_type": "execute_result",
          "data": {
            "text/plain": [
              "True"
            ]
          },
          "metadata": {},
          "execution_count": 2
        }
      ]
    },
    {
      "cell_type": "code",
      "source": [
        "class sentiment_classification:\n",
        "  def __init__(self, dataset=None, lemmatizer = WordNetLemmatizer()):\n",
        "    if dataset is None:\n",
        "      print('Please provide dataset')\n",
        "    self.dataset = dataset\n",
        "    self.lemmatizer = lemmatizer\n",
        "\n",
        "  def lemmitize(self, article):\n",
        "    stopset = stopwords.words('english') + list(string.punctuation)\n",
        "    article = \" \".join([i for i in word_tokenize(article) if i not in stopset])\n",
        "    article = unidecode(article)\n",
        "    words = word_tokenize(article)\n",
        "    s = []\n",
        "    for word in words:\n",
        "      s.append(self.lemmatizer.lemmatize(word))\n",
        "    article = \" \".join(s)\n",
        "    return article\n",
        "\n",
        "  def lemmatize_data(self,x_train,x_val,x_test):\n",
        "    x_train = np.array(x_train.apply(self.lemmitize))\n",
        "    x_val = np.array(x_val.apply(self.lemmitize))\n",
        "    x_test = np.array(x_test.apply(self.lemmitize))\n",
        "    return x_train,x_val,x_test\n",
        "\n",
        "  def tokenize_data(self, x_train,x_val,x_test, tokenizer= Tokenizer (num_words=None, filters='!\"#$%&()*+,-./:;<=>?@[\\\\]^_`{|}~\\t\\n', lower=True, split=' ', char_level=False, oov_token='<UNK>', document_count=0)):\n",
        "    tokenizer.fit_on_texts(x_train)\n",
        "    x_train_seq = tokenizer.texts_to_sequences(x_train)\n",
        "    self.vocab_size = len(tokenizer.word_index)+1\n",
        "    x_val_seq = tokenizer.texts_to_sequences(x_val)\n",
        "    x_test_seq = tokenizer.texts_to_sequences(x_test)\n",
        "    return x_train_seq, x_val_seq, x_test_seq\n",
        "\n",
        "  def padding_sequences(self, x_train_seq, x_val_seq, x_test_seq, maxlen=45):\n",
        "    self.maxlen = maxlen\n",
        "    x_train = sequence.pad_sequences(x_train_seq, maxlen=maxlen, truncating='post', padding='post')\n",
        "    x_val = sequence.pad_sequences(x_val_seq, maxlen=maxlen, truncating='post', padding='post')\n",
        "    x_test = sequence.pad_sequences(x_test_seq, maxlen=maxlen, truncating='post', padding='post')\n",
        "    return x_train,x_val,x_test\n",
        "\n",
        "  def names_to_ids(self, labels):\n",
        "    return np.array([self.class_to_index.get(x) for x in labels])\n",
        "\n",
        "  def ids_to_names(self, ids):\n",
        "    return np.array([self.index_to_class.get(x) for x in ids])\n",
        "\n",
        "  def prepare_labels(self, y_train,y_val,y_test):\n",
        "    y_train = np.array(y_train)\n",
        "    y_val = np.array(y_val)\n",
        "    y_test = np.array(y_test)\n",
        "    self.y_test = y_test\n",
        "    self.class_to_index = dict((c,i) for i,c in enumerate(set(y_train)))\n",
        "    self.index_to_class = dict((i,c) for c,i in self.class_to_index.items()) \n",
        "    y_train_encoded = self.names_to_ids(y_train)\n",
        "    y_val_encoded = self.names_to_ids(y_val)\n",
        "    y_test_encoded = self.names_to_ids(y_test)\n",
        "    return y_train_encoded, y_val_encoded, y_test_encoded\n",
        "\n",
        "\n",
        "  def preprocess_data(self, dataset=None):\n",
        "    if dataset is not None:\n",
        "      self.dataset = dataset\n",
        "    self.dataset = self.dataset.dropna()\n",
        "    train, validate, test = np.split(self.dataset.sample(frac=1, random_state=42), [int(.6*len(self.dataset)), int(.8*len(self.dataset))])\n",
        "    x_train = train['clean_text'].str.replace('[^a-zA-Z]', ' ', regex=True).str.lower()\n",
        "    y_train = train['category'].astype(int)\n",
        "    x_val = validate['clean_text'].str.replace('[^a-zA-Z]', ' ', regex=True).str.lower()\n",
        "    y_val = validate['category'].astype(int)\n",
        "    x_test = test['clean_text'].str.replace('[^a-zA-Z]', ' ', regex=True).str.lower()\n",
        "    y_test = test['category'].astype(int)\n",
        "    self.unique_labels = pd.unique(y_train)\n",
        "    x_train,x_val,x_test = self.lemmatize_data(x_train,x_val,x_test)\n",
        "    x_train_seq, x_val_seq, x_test_seq = self.tokenize_data( x_train,x_val,x_test)\n",
        "    x_train,x_val,x_test = self.padding_sequences(x_train_seq, x_val_seq, x_test_seq)\n",
        "    y_train_encoded, y_val_encoded, y_test_encoded = self.prepare_labels( y_train,y_val,y_test)\n",
        "    return x_train,y_train_encoded,x_val,y_val_encoded,x_test,y_test_encoded\n",
        "\n",
        "  def create_model(self):\n",
        "    model = tf.keras.models.Sequential(layers=[\n",
        "        Embedding(self.vocab_size, 16 , input_length=self.maxlen),\n",
        "        Bidirectional(LSTM(20, return_sequences=True)),\n",
        "        Bidirectional(LSTM(20)),\n",
        "        Dense(3, activation='softmax')\n",
        "        ])\n",
        "    print('Model Created \\n')\n",
        "    print(model.summary())\n",
        "    return model\n",
        "\n",
        "  def compile_model(self, model= None, loss='sparse_categorical_crossentropy', optimizer='adam', metrics=['accuracy']):\n",
        "    if model is None:\n",
        "      self.model = self.create_model()\n",
        "    else:\n",
        "      self.model = model      \n",
        "    self.model.compile(loss=loss,\n",
        "                optimizer=optimizer, \n",
        "                metrics=metrics)\n",
        "    return self.model\n",
        "\n",
        "  def train_model(self, x_train, y_train_l, x_val, y_val_l, compiled_model=None, epochs = 20, callbacks= tf.keras.callbacks.EarlyStopping(monitor='val_accuracy', patience=3)):\n",
        "    if compiled_model is None:\n",
        "      self.model = self.compile_model()\n",
        "    else:\n",
        "      self.model = compiled_model      \n",
        "    self.history = self.model.fit(x_train, y_train_l, validation_data = (x_val, y_val_l), epochs = epochs, callbacks= callbacks)\n",
        "    return self.history\n",
        "\n",
        "  def show_history(self, h=None):\n",
        "    if h is None:\n",
        "      h = self.history\n",
        "    epochs_trained = len(h.history['loss'])\n",
        "    plt.figure(figsize=(16, 6))\n",
        "\n",
        "    plt.subplot(1, 2, 1)\n",
        "    plt.plot(range(0, epochs_trained), h.history.get('accuracy'), label='Training')\n",
        "    plt.plot(range(0, epochs_trained), h.history.get('val_accuracy'), label='Validation')\n",
        "    plt.ylim([0., 1.])\n",
        "    plt.xlabel('Epochs')\n",
        "    plt.ylabel('Accuracy')\n",
        "    plt.legend()\n",
        "\n",
        "    plt.subplot(1, 2, 2)\n",
        "    plt.plot(range(0, epochs_trained), h.history.get('loss'), label='Training')\n",
        "    plt.plot(range(0, epochs_trained), h.history.get('val_loss'), label='Validation')\n",
        "    plt.xlabel('Epochs')\n",
        "    plt.ylabel('Loss')\n",
        "    plt.legend()\n",
        "    plt.show()\n",
        "\n",
        "  def evaluate_model(self, x_test,y_test_encoded):\n",
        "    test_loss,test_accuracy = self.model.evaluate(x_test, y_test_encoded)\n",
        "    return test_loss,test_accuracy\n",
        "\n",
        "  def print_confusion_matrix(self, x_test,y_test_encoded):\n",
        "    y_pred = model.predict(x_test)\n",
        "    classes_y =np.argmax(y_pred,axis=1)\n",
        "    classes_y = self.ids_to_names(classes_y)\n",
        "    cm = confusion_matrix(self.y_test, classes_y, normalize='true')\n",
        "    disp = ConfusionMatrixDisplay(cm, display_labels= list(set(self.y_test)))\n",
        "    disp.plot()\n",
        "    plt.show()"
      ],
      "metadata": {
        "id": "hM70YshkniF4"
      },
      "execution_count": 3,
      "outputs": []
    },
    {
      "cell_type": "code",
      "metadata": {
        "id": "0YHOvjAu5eiL"
      },
      "source": [
        "dataset = pd.read_csv(\"drive/MyDrive/Dataset/Twitter_Data.csv\")\n",
        "dataset = dataset.dropna()"
      ],
      "execution_count": 4,
      "outputs": []
    },
    {
      "cell_type": "code",
      "source": [
        "sentiment_classification1 = sentiment_classification(dataset = dataset)"
      ],
      "metadata": {
        "id": "uT466A-8zsIt"
      },
      "execution_count": 5,
      "outputs": []
    },
    {
      "cell_type": "code",
      "source": [
        "x_train,y_train_encoded,x_val,y_val_encoded,x_test,y_test_encoded = sentiment_classification1.preprocess_data()"
      ],
      "metadata": {
        "id": "vsaAq6170A8g"
      },
      "execution_count": 6,
      "outputs": []
    },
    {
      "cell_type": "code",
      "source": [
        "model = sentiment_classification1.create_model()"
      ],
      "metadata": {
        "colab": {
          "base_uri": "https://localhost:8080/"
        },
        "id": "x-Ja-K7_8LqG",
        "outputId": "ebb8f636-e850-4b1d-9fc7-4bf8d7036010"
      },
      "execution_count": 7,
      "outputs": [
        {
          "output_type": "stream",
          "name": "stdout",
          "text": [
            "Model Created \n",
            "\n",
            "Model: \"sequential\"\n",
            "_________________________________________________________________\n",
            " Layer (type)                Output Shape              Param #   \n",
            "=================================================================\n",
            " embedding (Embedding)       (None, 45, 16)            1111072   \n",
            "                                                                 \n",
            " bidirectional (Bidirectiona  (None, 45, 40)           5920      \n",
            " l)                                                              \n",
            "                                                                 \n",
            " bidirectional_1 (Bidirectio  (None, 40)               9760      \n",
            " nal)                                                            \n",
            "                                                                 \n",
            " dense (Dense)               (None, 3)                 123       \n",
            "                                                                 \n",
            "=================================================================\n",
            "Total params: 1,126,875\n",
            "Trainable params: 1,126,875\n",
            "Non-trainable params: 0\n",
            "_________________________________________________________________\n",
            "None\n"
          ]
        }
      ]
    },
    {
      "cell_type": "code",
      "source": [
        "compiled_model = sentiment_classification1.compile_model(model = model)"
      ],
      "metadata": {
        "id": "xTeftSF18Lmt"
      },
      "execution_count": 8,
      "outputs": []
    },
    {
      "cell_type": "code",
      "source": [
        "hist = sentiment_classification1.train_model(compiled_model=compiled_model,x_train=x_train, y_train_l=y_train_encoded, x_val=x_val,y_val_l=y_val_encoded, epochs= 5)"
      ],
      "metadata": {
        "colab": {
          "base_uri": "https://localhost:8080/"
        },
        "id": "AekvQugi8cQe",
        "outputId": "f1e713ee-0934-464c-d13d-e4cded9f0db0"
      },
      "execution_count": 9,
      "outputs": [
        {
          "output_type": "stream",
          "name": "stdout",
          "text": [
            "Epoch 1/5\n",
            "3056/3056 [==============================] - 223s 71ms/step - loss: 0.4918 - accuracy: 0.8132 - val_loss: 0.3316 - val_accuracy: 0.8961\n",
            "Epoch 2/5\n",
            "3056/3056 [==============================] - 214s 70ms/step - loss: 0.2767 - accuracy: 0.9136 - val_loss: 0.3250 - val_accuracy: 0.8984\n",
            "Epoch 3/5\n",
            "3056/3056 [==============================] - 217s 71ms/step - loss: 0.2148 - accuracy: 0.9341 - val_loss: 0.3434 - val_accuracy: 0.8907\n",
            "Epoch 4/5\n",
            "3056/3056 [==============================] - 215s 70ms/step - loss: 0.1671 - accuracy: 0.9499 - val_loss: 0.3806 - val_accuracy: 0.8847\n",
            "Epoch 5/5\n",
            "3056/3056 [==============================] - 214s 70ms/step - loss: 0.1300 - accuracy: 0.9601 - val_loss: 0.4307 - val_accuracy: 0.8767\n"
          ]
        }
      ]
    },
    {
      "cell_type": "code",
      "source": [
        "sentiment_classification1.show_history(h = hist)"
      ],
      "metadata": {
        "colab": {
          "base_uri": "https://localhost:8080/",
          "height": 392
        },
        "id": "e3xp__bd8LUO",
        "outputId": "a711da77-f41f-4eea-8b0b-46b1217008f5"
      },
      "execution_count": 10,
      "outputs": [
        {
          "output_type": "display_data",
          "data": {
            "text/plain": [
              "<Figure size 1152x432 with 2 Axes>"
            ],
            "image/png": "[encoded data removed]"
          },
          "metadata": {
            "needs_background": "light"
          }
        }
      ]
    },
    {
      "cell_type": "code",
      "source": [
        "sentiment_classification1.evaluate_model(x_test, y_test_encoded)"
      ],
      "metadata": {
        "colab": {
          "base_uri": "https://localhost:8080/"
        },
        "id": "hSYpuaRd_sAZ",
        "outputId": "390449e5-c48e-40c8-f5ba-b7fcfc0c8de9"
      },
      "execution_count": 11,
      "outputs": [
        {
          "output_type": "stream",
          "name": "stdout",
          "text": [
            "1019/1019 [==============================] - 14s 13ms/step - loss: 0.4352 - accuracy: 0.8761\n"
          ]
        },
        {
          "output_type": "execute_result",
          "data": {
            "text/plain": [
              "(0.4351966977119446, 0.8760508298873901)"
            ]
          },
          "metadata": {},
          "execution_count": 11
        }
      ]
    },
    {
      "cell_type": "code",
      "source": [
        "sentiment_classification1.print_confusion_matrix(x_test, y_test_encoded)"
      ],
      "metadata": {
        "colab": {
          "base_uri": "https://localhost:8080/",
          "height": 299
        },
        "id": "_kTAu15I_r9P",
        "outputId": "b9434bf8-702a-47c2-c2c2-6d496274828d"
      },
      "execution_count": 12,
      "outputs": [
        {
          "output_type": "stream",
          "name": "stdout",
          "text": [
            "1019/1019 [==============================] - 15s 13ms/step\n"
          ]
        },
        {
          "output_type": "display_data",
          "data": {
            "text/plain": [
              "<Figure size 432x288 with 2 Axes>"
            ],
            "image/png": "[encoded data removed]"
          },
          "metadata": {
            "needs_background": "light"
          }
        }
      ]
    },
    {
      "cell_type": "code",
      "source": [],
      "metadata": {
        "id": "hLtzyqHKeIiw"
      },
      "execution_count": 12,
      "outputs": []
    }
  ]
}